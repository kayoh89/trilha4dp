{
  "nbformat": 4,
  "nbformat_minor": 0,
  "metadata": {
    "colab": {
      "name": "trilha4peso3.ipynb",
      "provenance": [],
      "collapsed_sections": [],
      "include_colab_link": true
    },
    "kernelspec": {
      "name": "python3",
      "display_name": "Python 3"
    },
    "language_info": {
      "name": "python"
    }
  },
  "cells": [
    {
      "cell_type": "markdown",
      "metadata": {
        "id": "view-in-github",
        "colab_type": "text"
      },
      "source": [
        "<a href=\"https://colab.research.google.com/github/kayoh89/trilha4dp/blob/main/trilha4peso3.ipynb\" target=\"_parent\"><img src=\"https://colab.research.google.com/assets/colab-badge.svg\" alt=\"Open In Colab\"/></a>"
      ]
    },
    {
      "cell_type": "markdown",
      "source": [
        "# **Trilha 4: Aplicações em Visão Computacional** "
      ],
      "metadata": {
        "id": "JXjuVzAHN1pt"
      }
    },
    {
      "cell_type": "markdown",
      "source": [
        "DEEP LEARNING PARA PROCESSAMENTO DE LINGUAGEM E VISÃO [TURMA 01B] - 2022/1"
      ],
      "metadata": {
        "id": "QwIn0sCaN5vZ"
      }
    },
    {
      "cell_type": "markdown",
      "source": [
        "**Nome:** Kayo Henrique da Costa Belagamba\n"
      ],
      "metadata": {
        "id": "fdeB0MVSN9ZE"
      }
    },
    {
      "cell_type": "markdown",
      "source": [
        "**Trilha 4**: Tarefa (Peso 3)"
      ],
      "metadata": {
        "id": "Ht-yme00ODwg"
      }
    },
    {
      "cell_type": "markdown",
      "source": [
        "O reconhecimento facial é uma das aplicações mais populares em visão computacional. Nesta tarefa, você deverá desenvolver um classificador utilizando redes neurais convolucionais. Para isso, procure na Web pelo banco de dados ORL face e baixe o arquivo ORL_faces.npz. Baixe também o python notebook associado a esta tarefa e siga as instruções do arquivo, buscando completar os códigos em python visando à construção de uma rede neural convolucional. "
      ],
      "metadata": {
        "id": "3saofIQROR_J"
      }
    },
    {
      "cell_type": "code",
      "source": [
        "# Garante que o Colab utilizará o TensorFlow 2.x\n",
        "%tensorflow_version 2.x\n",
        "from __future__ import absolute_import, division, print_function, unicode_literals"
      ],
      "metadata": {
        "id": "YJYoIYauPAfm"
      },
      "execution_count": null,
      "outputs": []
    },
    {
      "cell_type": "code",
      "source": [
        "import itertools\n",
        "import numpy as np\n",
        "import pandas as pd\n",
        "from matplotlib import pyplot as plt"
      ],
      "metadata": {
        "id": "nGRn7VL2PH6E"
      },
      "execution_count": null,
      "outputs": []
    },
    {
      "cell_type": "code",
      "source": [
        "from sklearn.model_selection import train_test_split\n",
        "from sklearn.metrics import accuracy_score"
      ],
      "metadata": {
        "id": "nX5qzlOmPLhV"
      },
      "execution_count": null,
      "outputs": []
    },
    {
      "cell_type": "code",
      "source": [
        "import tensorflow as tf\n",
        "from tensorflow import keras\n",
        "from tensorflow.keras import utils\n",
        "from tensorflow.keras import layers\n",
        "from tensorflow.keras import models\n",
        "from tensorflow.keras import datasets\n",
        "from tensorflow.keras import optimizers\n",
        "from keras.models import Sequential\n",
        "from keras.layers import Dropout, Dense, Conv2D, MaxPooling2D, Flatten\n",
        "from tensorflow.keras.losses import SparseCategoricalCrossentropy\n",
        "from keras.utils import np_utils\n",
        "from keras.models import Sequential\n",
        "from keras.layers import Dense\n",
        "from keras.utils import np_utils\n",
        "from keras.layers import Dropout\n",
        "from keras.layers import Flatten\n",
        "from keras.layers.convolutional import Conv2D\n",
        "from keras.layers.convolutional import MaxPooling2D"
      ],
      "metadata": {
        "id": "JurFjCqTPOkd"
      },
      "execution_count": null,
      "outputs": []
    },
    {
      "cell_type": "code",
      "source": [
        "data = np.load('ORL_faces.npz')"
      ],
      "metadata": {
        "id": "mxM_oiHuPTGb"
      },
      "execution_count": null,
      "outputs": []
    },
    {
      "cell_type": "code",
      "source": [
        "X_train = data['trainX']\n",
        "X_train = np.array(X_train, dtype=np.float32)/255\n",
        "\n",
        "X_test = data['testX']\n",
        "X_test = np.array(X_test, dtype=np.float32)/255\n",
        "\n",
        "y_train = data['trainY']\n",
        "y_test = data['testY']"
      ],
      "metadata": {
        "id": "pAWAwNXjQ53T"
      },
      "execution_count": null,
      "outputs": []
    },
    {
      "cell_type": "code",
      "source": [
        "X_train, X_valid, y_train, y_valid = train_test_split(X_train, y_train, test_size=.05, random_state=42)"
      ],
      "metadata": {
        "id": "Xjl039S_Q8nT"
      },
      "execution_count": null,
      "outputs": []
    },
    {
      "cell_type": "code",
      "source": [
        "im_rows = 112\n",
        "im_cols = 92\n",
        "im_shape = (im_rows, im_cols, 1)"
      ],
      "metadata": {
        "id": "nrX79k__Q-yl"
      },
      "execution_count": null,
      "outputs": []
    },
    {
      "cell_type": "markdown",
      "source": [
        "# **1.0** **Reformate os dados de treinamento, validação e teste no formato adequado para a rede neural.**"
      ],
      "metadata": {
        "id": "QgxUr4YrRAh3"
      }
    },
    {
      "cell_type": "code",
      "source": [
        "X_train = X_train.reshape(X_train.shape[0], *im_shape)\n",
        "X_test = X_test.reshape(X_test.shape[0], *im_shape)"
      ],
      "metadata": {
        "id": "N6nlctZaRJOo"
      },
      "execution_count": null,
      "outputs": []
    },
    {
      "cell_type": "code",
      "source": [
        "print('x_train shape: {}'. format(y_train.shape[0]))\n",
        "print('x_test shape: {}'. format(y_test.shape))\n",
        "y_train = y_train.astype(\"str\")\n",
        "y_train = pd.get_dummies(y_train)\n",
        "y_test = y_train.astype(\"str\")\n",
        "y_test = pd.get_dummies(y_test)\n"
      ],
      "metadata": {
        "colab": {
          "base_uri": "https://localhost:8080/"
        },
        "id": "kA4OP18oT9z2",
        "outputId": "421cdb63-2c1d-48e4-d177-cd785b98a8b5"
      },
      "execution_count": null,
      "outputs": [
        {
          "output_type": "stream",
          "name": "stdout",
          "text": [
            "x_train shape: 228\n",
            "x_test shape: (160,)\n"
          ]
        }
      ]
    },
    {
      "cell_type": "markdown",
      "source": [
        "# **2.0 Construa a rede neural convolucional objetivando o resultado da métrica apresentado no final deste notebook.**"
      ],
      "metadata": {
        "id": "QnGBo_OblJLw"
      }
    },
    {
      "cell_type": "code",
      "source": [
        "cnn_model= Sequential([\n",
        "    Conv2D(filters=10, kernel_size=(5,5), activation='relu', input_shape=im_shape),\n",
        "    MaxPooling2D(pool_size=2),\n",
        "    Conv2D(filters=5, kernel_size=(5,5), activation='relu'),\n",
        "    MaxPooling2D(pool_size=4),\n",
        "    Flatten(),\n",
        "    Dense(2024, activation='relu'),\n",
        "\t   Dropout(0.2),\n",
        "\t  Dense(1012, activation='relu'),\n",
        "    Dense(506, activation= 'relu'),\n",
        "    Dense(20, activation='softmax'),\n",
        "])"
      ],
      "metadata": {
        "id": "NW42luL1bGG9"
      },
      "execution_count": null,
      "outputs": []
    },
    {
      "cell_type": "markdown",
      "source": [
        "# **3.0 Compile o modelo com os seguintes parâmetros:**\n",
        "\n",
        "*Loss: sparse_categorical_entropy;\n",
        "\n",
        "*Optimizer: Adam;\n",
        "\n",
        "*Metrics: accuracy."
      ],
      "metadata": {
        "id": "fwmfbEMllvXX"
      }
    },
    {
      "cell_type": "code",
      "source": [
        "optimizer = tf.keras.optimizers.Adam(learning_rate=0.0001)\n",
        "cnn_model.compile(optimizer=optimizer,\n",
        "              loss=SparseCategoricalCrossentropy(),\n",
        "              metrics=['accuracy'])\n"
      ],
      "metadata": {
        "id": "Kzsd9C05nDvF"
      },
      "execution_count": null,
      "outputs": []
    },
    {
      "cell_type": "markdown",
      "source": [
        "# **4.0 Ajuste o modelo aos dados de treinamento considerando os seguintes parâmetros:**\n",
        "batch_size = 512\n",
        "\n",
        "verbose = 2\n"
      ],
      "metadata": {
        "id": "_yG7JlvSt8yv"
      }
    },
    {
      "cell_type": "code",
      "source": [
        "def nn_model():\n",
        "    model=Sequential()\n",
        "    model.compile(loss='categorical_crossentropy', optimiser='Adam', metrics=['accuracy'])\n",
        "    return model"
      ],
      "metadata": {
        "id": "qnM_FmmCopwH"
      },
      "execution_count": null,
      "outputs": []
    }
  ]
}